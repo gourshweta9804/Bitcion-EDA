{
  "nbformat": 4,
  "nbformat_minor": 0,
  "metadata": {
    "colab": {
      "name": "bitcoin eda prediction",
      "provenance": [],
      "collapsed_sections": []
    },
    "kernelspec": {
      "name": "python3",
      "display_name": "Python 3"
    },
    "language_info": {
      "name": "python"
    }
  },
  "cells": [
    {
      "cell_type": "markdown",
      "metadata": {
        "id": "E2ONNax3azEG"
      },
      "source": [
        "#import all library"
      ]
    },
    {
      "cell_type": "code",
      "metadata": {
        "id": "6ddOHnCIPz1s"
      },
      "source": [
        "import numpy as np\n",
        "import pandas as pd\n",
        "import seaborn as sns\n",
        "import matplotlib.pyplot as plt"
      ],
      "execution_count": null,
      "outputs": []
    },
    {
      "cell_type": "markdown",
      "metadata": {
        "id": "qY3_xon1a3Vx"
      },
      "source": [
        "#load dataset"
      ]
    },
    {
      "cell_type": "code",
      "metadata": {
        "id": "7r9gbJXfak_y"
      },
      "source": [
        "data=pd.read_csv(\"/bitcoin_price_1week_Test - Test.csv\")"
      ],
      "execution_count": null,
      "outputs": []
    },
    {
      "cell_type": "markdown",
      "metadata": {
        "id": "lbvkz4mGbrfj"
      },
      "source": [
        "#basic performance"
      ]
    },
    {
      "cell_type": "code",
      "metadata": {
        "colab": {
          "base_uri": "https://localhost:8080/",
          "height": 264
        },
        "id": "N6bmp_rHbTrp",
        "outputId": "fdb76b29-9f0d-4783-e3ed-0b254470272a"
      },
      "source": [
        "data"
      ],
      "execution_count": null,
      "outputs": [
        {
          "output_type": "execute_result",
          "data": {
            "text/html": [
              "<div>\n",
              "<style scoped>\n",
              "    .dataframe tbody tr th:only-of-type {\n",
              "        vertical-align: middle;\n",
              "    }\n",
              "\n",
              "    .dataframe tbody tr th {\n",
              "        vertical-align: top;\n",
              "    }\n",
              "\n",
              "    .dataframe thead th {\n",
              "        text-align: right;\n",
              "    }\n",
              "</style>\n",
              "<table border=\"1\" class=\"dataframe\">\n",
              "  <thead>\n",
              "    <tr style=\"text-align: right;\">\n",
              "      <th></th>\n",
              "      <th>Date</th>\n",
              "      <th>Open</th>\n",
              "      <th>High</th>\n",
              "      <th>Low</th>\n",
              "      <th>Close</th>\n",
              "      <th>Volume</th>\n",
              "      <th>Market Cap</th>\n",
              "    </tr>\n",
              "  </thead>\n",
              "  <tbody>\n",
              "    <tr>\n",
              "      <th>0</th>\n",
              "      <td>Aug 07, 2017</td>\n",
              "      <td>3212.78</td>\n",
              "      <td>3397.68</td>\n",
              "      <td>3180.89</td>\n",
              "      <td>3378.94</td>\n",
              "      <td>1,482,280,000</td>\n",
              "      <td>52,987,300,000</td>\n",
              "    </tr>\n",
              "    <tr>\n",
              "      <th>1</th>\n",
              "      <td>Aug 06, 2017</td>\n",
              "      <td>3257.61</td>\n",
              "      <td>3293.29</td>\n",
              "      <td>3155.60</td>\n",
              "      <td>3213.94</td>\n",
              "      <td>1,105,030,000</td>\n",
              "      <td>53,720,900,000</td>\n",
              "    </tr>\n",
              "    <tr>\n",
              "      <th>2</th>\n",
              "      <td>Aug 05, 2017</td>\n",
              "      <td>2897.63</td>\n",
              "      <td>3290.01</td>\n",
              "      <td>2874.83</td>\n",
              "      <td>3252.91</td>\n",
              "      <td>1,945,700,000</td>\n",
              "      <td>47,778,200,000</td>\n",
              "    </tr>\n",
              "    <tr>\n",
              "      <th>3</th>\n",
              "      <td>Aug 04, 2017</td>\n",
              "      <td>2806.93</td>\n",
              "      <td>2899.33</td>\n",
              "      <td>2743.72</td>\n",
              "      <td>2895.89</td>\n",
              "      <td>1,002,120,000</td>\n",
              "      <td>46,276,200,000</td>\n",
              "    </tr>\n",
              "    <tr>\n",
              "      <th>4</th>\n",
              "      <td>Aug 03, 2017</td>\n",
              "      <td>2709.56</td>\n",
              "      <td>2813.31</td>\n",
              "      <td>2685.14</td>\n",
              "      <td>2804.73</td>\n",
              "      <td>804,797,000</td>\n",
              "      <td>44,666,400,000</td>\n",
              "    </tr>\n",
              "    <tr>\n",
              "      <th>5</th>\n",
              "      <td>Aug 02, 2017</td>\n",
              "      <td>2727.13</td>\n",
              "      <td>2762.53</td>\n",
              "      <td>2668.59</td>\n",
              "      <td>2710.67</td>\n",
              "      <td>1,094,950,000</td>\n",
              "      <td>44,950,800,000</td>\n",
              "    </tr>\n",
              "    <tr>\n",
              "      <th>6</th>\n",
              "      <td>Aug 01, 2017</td>\n",
              "      <td>2871.30</td>\n",
              "      <td>2921.35</td>\n",
              "      <td>2685.61</td>\n",
              "      <td>2718.26</td>\n",
              "      <td>1,324,670,000</td>\n",
              "      <td>47,321,800,000</td>\n",
              "    </tr>\n",
              "  </tbody>\n",
              "</table>\n",
              "</div>"
            ],
            "text/plain": [
              "           Date     Open     High  ...    Close         Volume      Market Cap\n",
              "0  Aug 07, 2017  3212.78  3397.68  ...  3378.94  1,482,280,000  52,987,300,000\n",
              "1  Aug 06, 2017  3257.61  3293.29  ...  3213.94  1,105,030,000  53,720,900,000\n",
              "2  Aug 05, 2017  2897.63  3290.01  ...  3252.91  1,945,700,000  47,778,200,000\n",
              "3  Aug 04, 2017  2806.93  2899.33  ...  2895.89  1,002,120,000  46,276,200,000\n",
              "4  Aug 03, 2017  2709.56  2813.31  ...  2804.73    804,797,000  44,666,400,000\n",
              "5  Aug 02, 2017  2727.13  2762.53  ...  2710.67  1,094,950,000  44,950,800,000\n",
              "6  Aug 01, 2017  2871.30  2921.35  ...  2718.26  1,324,670,000  47,321,800,000\n",
              "\n",
              "[7 rows x 7 columns]"
            ]
          },
          "metadata": {},
          "execution_count": 3
        }
      ]
    },
    {
      "cell_type": "code",
      "metadata": {
        "colab": {
          "base_uri": "https://localhost:8080/",
          "height": 202
        },
        "id": "QVVnDOzpbUpy",
        "outputId": "d1eccff5-25e6-4a78-b900-f9447741b678"
      },
      "source": [
        "data.head()"
      ],
      "execution_count": null,
      "outputs": [
        {
          "output_type": "execute_result",
          "data": {
            "text/html": [
              "<div>\n",
              "<style scoped>\n",
              "    .dataframe tbody tr th:only-of-type {\n",
              "        vertical-align: middle;\n",
              "    }\n",
              "\n",
              "    .dataframe tbody tr th {\n",
              "        vertical-align: top;\n",
              "    }\n",
              "\n",
              "    .dataframe thead th {\n",
              "        text-align: right;\n",
              "    }\n",
              "</style>\n",
              "<table border=\"1\" class=\"dataframe\">\n",
              "  <thead>\n",
              "    <tr style=\"text-align: right;\">\n",
              "      <th></th>\n",
              "      <th>Date</th>\n",
              "      <th>Open</th>\n",
              "      <th>High</th>\n",
              "      <th>Low</th>\n",
              "      <th>Close</th>\n",
              "      <th>Volume</th>\n",
              "      <th>Market Cap</th>\n",
              "    </tr>\n",
              "  </thead>\n",
              "  <tbody>\n",
              "    <tr>\n",
              "      <th>0</th>\n",
              "      <td>Aug 07, 2017</td>\n",
              "      <td>3212.78</td>\n",
              "      <td>3397.68</td>\n",
              "      <td>3180.89</td>\n",
              "      <td>3378.94</td>\n",
              "      <td>1,482,280,000</td>\n",
              "      <td>52,987,300,000</td>\n",
              "    </tr>\n",
              "    <tr>\n",
              "      <th>1</th>\n",
              "      <td>Aug 06, 2017</td>\n",
              "      <td>3257.61</td>\n",
              "      <td>3293.29</td>\n",
              "      <td>3155.60</td>\n",
              "      <td>3213.94</td>\n",
              "      <td>1,105,030,000</td>\n",
              "      <td>53,720,900,000</td>\n",
              "    </tr>\n",
              "    <tr>\n",
              "      <th>2</th>\n",
              "      <td>Aug 05, 2017</td>\n",
              "      <td>2897.63</td>\n",
              "      <td>3290.01</td>\n",
              "      <td>2874.83</td>\n",
              "      <td>3252.91</td>\n",
              "      <td>1,945,700,000</td>\n",
              "      <td>47,778,200,000</td>\n",
              "    </tr>\n",
              "    <tr>\n",
              "      <th>3</th>\n",
              "      <td>Aug 04, 2017</td>\n",
              "      <td>2806.93</td>\n",
              "      <td>2899.33</td>\n",
              "      <td>2743.72</td>\n",
              "      <td>2895.89</td>\n",
              "      <td>1,002,120,000</td>\n",
              "      <td>46,276,200,000</td>\n",
              "    </tr>\n",
              "    <tr>\n",
              "      <th>4</th>\n",
              "      <td>Aug 03, 2017</td>\n",
              "      <td>2709.56</td>\n",
              "      <td>2813.31</td>\n",
              "      <td>2685.14</td>\n",
              "      <td>2804.73</td>\n",
              "      <td>804,797,000</td>\n",
              "      <td>44,666,400,000</td>\n",
              "    </tr>\n",
              "  </tbody>\n",
              "</table>\n",
              "</div>"
            ],
            "text/plain": [
              "           Date     Open     High  ...    Close         Volume      Market Cap\n",
              "0  Aug 07, 2017  3212.78  3397.68  ...  3378.94  1,482,280,000  52,987,300,000\n",
              "1  Aug 06, 2017  3257.61  3293.29  ...  3213.94  1,105,030,000  53,720,900,000\n",
              "2  Aug 05, 2017  2897.63  3290.01  ...  3252.91  1,945,700,000  47,778,200,000\n",
              "3  Aug 04, 2017  2806.93  2899.33  ...  2895.89  1,002,120,000  46,276,200,000\n",
              "4  Aug 03, 2017  2709.56  2813.31  ...  2804.73    804,797,000  44,666,400,000\n",
              "\n",
              "[5 rows x 7 columns]"
            ]
          },
          "metadata": {},
          "execution_count": 4
        }
      ]
    },
    {
      "cell_type": "code",
      "metadata": {
        "colab": {
          "base_uri": "https://localhost:8080/",
          "height": 202
        },
        "id": "9AVILd8tbXjS",
        "outputId": "8c59edc3-779c-4521-eb6a-4b7964d16ccf"
      },
      "source": [
        "data.tail()"
      ],
      "execution_count": null,
      "outputs": [
        {
          "output_type": "execute_result",
          "data": {
            "text/html": [
              "<div>\n",
              "<style scoped>\n",
              "    .dataframe tbody tr th:only-of-type {\n",
              "        vertical-align: middle;\n",
              "    }\n",
              "\n",
              "    .dataframe tbody tr th {\n",
              "        vertical-align: top;\n",
              "    }\n",
              "\n",
              "    .dataframe thead th {\n",
              "        text-align: right;\n",
              "    }\n",
              "</style>\n",
              "<table border=\"1\" class=\"dataframe\">\n",
              "  <thead>\n",
              "    <tr style=\"text-align: right;\">\n",
              "      <th></th>\n",
              "      <th>Date</th>\n",
              "      <th>Open</th>\n",
              "      <th>High</th>\n",
              "      <th>Low</th>\n",
              "      <th>Close</th>\n",
              "      <th>Volume</th>\n",
              "      <th>Market Cap</th>\n",
              "    </tr>\n",
              "  </thead>\n",
              "  <tbody>\n",
              "    <tr>\n",
              "      <th>2</th>\n",
              "      <td>Aug 05, 2017</td>\n",
              "      <td>2897.63</td>\n",
              "      <td>3290.01</td>\n",
              "      <td>2874.83</td>\n",
              "      <td>3252.91</td>\n",
              "      <td>1,945,700,000</td>\n",
              "      <td>47,778,200,000</td>\n",
              "    </tr>\n",
              "    <tr>\n",
              "      <th>3</th>\n",
              "      <td>Aug 04, 2017</td>\n",
              "      <td>2806.93</td>\n",
              "      <td>2899.33</td>\n",
              "      <td>2743.72</td>\n",
              "      <td>2895.89</td>\n",
              "      <td>1,002,120,000</td>\n",
              "      <td>46,276,200,000</td>\n",
              "    </tr>\n",
              "    <tr>\n",
              "      <th>4</th>\n",
              "      <td>Aug 03, 2017</td>\n",
              "      <td>2709.56</td>\n",
              "      <td>2813.31</td>\n",
              "      <td>2685.14</td>\n",
              "      <td>2804.73</td>\n",
              "      <td>804,797,000</td>\n",
              "      <td>44,666,400,000</td>\n",
              "    </tr>\n",
              "    <tr>\n",
              "      <th>5</th>\n",
              "      <td>Aug 02, 2017</td>\n",
              "      <td>2727.13</td>\n",
              "      <td>2762.53</td>\n",
              "      <td>2668.59</td>\n",
              "      <td>2710.67</td>\n",
              "      <td>1,094,950,000</td>\n",
              "      <td>44,950,800,000</td>\n",
              "    </tr>\n",
              "    <tr>\n",
              "      <th>6</th>\n",
              "      <td>Aug 01, 2017</td>\n",
              "      <td>2871.30</td>\n",
              "      <td>2921.35</td>\n",
              "      <td>2685.61</td>\n",
              "      <td>2718.26</td>\n",
              "      <td>1,324,670,000</td>\n",
              "      <td>47,321,800,000</td>\n",
              "    </tr>\n",
              "  </tbody>\n",
              "</table>\n",
              "</div>"
            ],
            "text/plain": [
              "           Date     Open     High  ...    Close         Volume      Market Cap\n",
              "2  Aug 05, 2017  2897.63  3290.01  ...  3252.91  1,945,700,000  47,778,200,000\n",
              "3  Aug 04, 2017  2806.93  2899.33  ...  2895.89  1,002,120,000  46,276,200,000\n",
              "4  Aug 03, 2017  2709.56  2813.31  ...  2804.73    804,797,000  44,666,400,000\n",
              "5  Aug 02, 2017  2727.13  2762.53  ...  2710.67  1,094,950,000  44,950,800,000\n",
              "6  Aug 01, 2017  2871.30  2921.35  ...  2718.26  1,324,670,000  47,321,800,000\n",
              "\n",
              "[5 rows x 7 columns]"
            ]
          },
          "metadata": {},
          "execution_count": 5
        }
      ]
    },
    {
      "cell_type": "code",
      "metadata": {
        "colab": {
          "base_uri": "https://localhost:8080/"
        },
        "id": "N3lrM6OXbZW7",
        "outputId": "42db80ae-d05d-4a7e-b049-08515e121401"
      },
      "source": [
        "data.shape"
      ],
      "execution_count": null,
      "outputs": [
        {
          "output_type": "execute_result",
          "data": {
            "text/plain": [
              "(7, 7)"
            ]
          },
          "metadata": {},
          "execution_count": 7
        }
      ]
    },
    {
      "cell_type": "code",
      "metadata": {
        "colab": {
          "base_uri": "https://localhost:8080/"
        },
        "id": "Do0pObHtba7e",
        "outputId": "a5550bd1-a108-44f3-91af-a847ca6ea375"
      },
      "source": [
        "data.info"
      ],
      "execution_count": null,
      "outputs": [
        {
          "output_type": "execute_result",
          "data": {
            "text/plain": [
              "<bound method DataFrame.info of            Date     Open     High  ...    Close         Volume      Market Cap\n",
              "0  Aug 07, 2017  3212.78  3397.68  ...  3378.94  1,482,280,000  52,987,300,000\n",
              "1  Aug 06, 2017  3257.61  3293.29  ...  3213.94  1,105,030,000  53,720,900,000\n",
              "2  Aug 05, 2017  2897.63  3290.01  ...  3252.91  1,945,700,000  47,778,200,000\n",
              "3  Aug 04, 2017  2806.93  2899.33  ...  2895.89  1,002,120,000  46,276,200,000\n",
              "4  Aug 03, 2017  2709.56  2813.31  ...  2804.73    804,797,000  44,666,400,000\n",
              "5  Aug 02, 2017  2727.13  2762.53  ...  2710.67  1,094,950,000  44,950,800,000\n",
              "6  Aug 01, 2017  2871.30  2921.35  ...  2718.26  1,324,670,000  47,321,800,000\n",
              "\n",
              "[7 rows x 7 columns]>"
            ]
          },
          "metadata": {},
          "execution_count": 8
        }
      ]
    },
    {
      "cell_type": "code",
      "metadata": {
        "colab": {
          "base_uri": "https://localhost:8080/",
          "height": 294
        },
        "id": "Zu7HpSV4blZI",
        "outputId": "00febccf-d6aa-4b69-f7bb-e9b498df0f04"
      },
      "source": [
        "data.describe()"
      ],
      "execution_count": null,
      "outputs": [
        {
          "output_type": "execute_result",
          "data": {
            "text/html": [
              "<div>\n",
              "<style scoped>\n",
              "    .dataframe tbody tr th:only-of-type {\n",
              "        vertical-align: middle;\n",
              "    }\n",
              "\n",
              "    .dataframe tbody tr th {\n",
              "        vertical-align: top;\n",
              "    }\n",
              "\n",
              "    .dataframe thead th {\n",
              "        text-align: right;\n",
              "    }\n",
              "</style>\n",
              "<table border=\"1\" class=\"dataframe\">\n",
              "  <thead>\n",
              "    <tr style=\"text-align: right;\">\n",
              "      <th></th>\n",
              "      <th>Open</th>\n",
              "      <th>High</th>\n",
              "      <th>Low</th>\n",
              "      <th>Close</th>\n",
              "    </tr>\n",
              "  </thead>\n",
              "  <tbody>\n",
              "    <tr>\n",
              "      <th>count</th>\n",
              "      <td>7.000000</td>\n",
              "      <td>7.000000</td>\n",
              "      <td>7.000000</td>\n",
              "      <td>7.000000</td>\n",
              "    </tr>\n",
              "    <tr>\n",
              "      <th>mean</th>\n",
              "      <td>2926.134286</td>\n",
              "      <td>3053.928571</td>\n",
              "      <td>2856.340000</td>\n",
              "      <td>2996.477143</td>\n",
              "    </tr>\n",
              "    <tr>\n",
              "      <th>std</th>\n",
              "      <td>222.327835</td>\n",
              "      <td>263.148120</td>\n",
              "      <td>224.210701</td>\n",
              "      <td>278.478301</td>\n",
              "    </tr>\n",
              "    <tr>\n",
              "      <th>min</th>\n",
              "      <td>2709.560000</td>\n",
              "      <td>2762.530000</td>\n",
              "      <td>2668.590000</td>\n",
              "      <td>2710.670000</td>\n",
              "    </tr>\n",
              "    <tr>\n",
              "      <th>25%</th>\n",
              "      <td>2767.030000</td>\n",
              "      <td>2856.320000</td>\n",
              "      <td>2685.375000</td>\n",
              "      <td>2761.495000</td>\n",
              "    </tr>\n",
              "    <tr>\n",
              "      <th>50%</th>\n",
              "      <td>2871.300000</td>\n",
              "      <td>2921.350000</td>\n",
              "      <td>2743.720000</td>\n",
              "      <td>2895.890000</td>\n",
              "    </tr>\n",
              "    <tr>\n",
              "      <th>75%</th>\n",
              "      <td>3055.205000</td>\n",
              "      <td>3291.650000</td>\n",
              "      <td>3015.215000</td>\n",
              "      <td>3233.425000</td>\n",
              "    </tr>\n",
              "    <tr>\n",
              "      <th>max</th>\n",
              "      <td>3257.610000</td>\n",
              "      <td>3397.680000</td>\n",
              "      <td>3180.890000</td>\n",
              "      <td>3378.940000</td>\n",
              "    </tr>\n",
              "  </tbody>\n",
              "</table>\n",
              "</div>"
            ],
            "text/plain": [
              "              Open         High          Low        Close\n",
              "count     7.000000     7.000000     7.000000     7.000000\n",
              "mean   2926.134286  3053.928571  2856.340000  2996.477143\n",
              "std     222.327835   263.148120   224.210701   278.478301\n",
              "min    2709.560000  2762.530000  2668.590000  2710.670000\n",
              "25%    2767.030000  2856.320000  2685.375000  2761.495000\n",
              "50%    2871.300000  2921.350000  2743.720000  2895.890000\n",
              "75%    3055.205000  3291.650000  3015.215000  3233.425000\n",
              "max    3257.610000  3397.680000  3180.890000  3378.940000"
            ]
          },
          "metadata": {},
          "execution_count": 10
        }
      ]
    },
    {
      "cell_type": "code",
      "metadata": {
        "colab": {
          "base_uri": "https://localhost:8080/",
          "height": 264
        },
        "id": "DZJ9_gYCboM2",
        "outputId": "def63885-f94d-42f1-a1b8-503523cf3ead"
      },
      "source": [
        "data.isnull()"
      ],
      "execution_count": null,
      "outputs": [
        {
          "output_type": "execute_result",
          "data": {
            "text/html": [
              "<div>\n",
              "<style scoped>\n",
              "    .dataframe tbody tr th:only-of-type {\n",
              "        vertical-align: middle;\n",
              "    }\n",
              "\n",
              "    .dataframe tbody tr th {\n",
              "        vertical-align: top;\n",
              "    }\n",
              "\n",
              "    .dataframe thead th {\n",
              "        text-align: right;\n",
              "    }\n",
              "</style>\n",
              "<table border=\"1\" class=\"dataframe\">\n",
              "  <thead>\n",
              "    <tr style=\"text-align: right;\">\n",
              "      <th></th>\n",
              "      <th>Date</th>\n",
              "      <th>Open</th>\n",
              "      <th>High</th>\n",
              "      <th>Low</th>\n",
              "      <th>Close</th>\n",
              "      <th>Volume</th>\n",
              "      <th>Market Cap</th>\n",
              "    </tr>\n",
              "  </thead>\n",
              "  <tbody>\n",
              "    <tr>\n",
              "      <th>0</th>\n",
              "      <td>False</td>\n",
              "      <td>False</td>\n",
              "      <td>False</td>\n",
              "      <td>False</td>\n",
              "      <td>False</td>\n",
              "      <td>False</td>\n",
              "      <td>False</td>\n",
              "    </tr>\n",
              "    <tr>\n",
              "      <th>1</th>\n",
              "      <td>False</td>\n",
              "      <td>False</td>\n",
              "      <td>False</td>\n",
              "      <td>False</td>\n",
              "      <td>False</td>\n",
              "      <td>False</td>\n",
              "      <td>False</td>\n",
              "    </tr>\n",
              "    <tr>\n",
              "      <th>2</th>\n",
              "      <td>False</td>\n",
              "      <td>False</td>\n",
              "      <td>False</td>\n",
              "      <td>False</td>\n",
              "      <td>False</td>\n",
              "      <td>False</td>\n",
              "      <td>False</td>\n",
              "    </tr>\n",
              "    <tr>\n",
              "      <th>3</th>\n",
              "      <td>False</td>\n",
              "      <td>False</td>\n",
              "      <td>False</td>\n",
              "      <td>False</td>\n",
              "      <td>False</td>\n",
              "      <td>False</td>\n",
              "      <td>False</td>\n",
              "    </tr>\n",
              "    <tr>\n",
              "      <th>4</th>\n",
              "      <td>False</td>\n",
              "      <td>False</td>\n",
              "      <td>False</td>\n",
              "      <td>False</td>\n",
              "      <td>False</td>\n",
              "      <td>False</td>\n",
              "      <td>False</td>\n",
              "    </tr>\n",
              "    <tr>\n",
              "      <th>5</th>\n",
              "      <td>False</td>\n",
              "      <td>False</td>\n",
              "      <td>False</td>\n",
              "      <td>False</td>\n",
              "      <td>False</td>\n",
              "      <td>False</td>\n",
              "      <td>False</td>\n",
              "    </tr>\n",
              "    <tr>\n",
              "      <th>6</th>\n",
              "      <td>False</td>\n",
              "      <td>False</td>\n",
              "      <td>False</td>\n",
              "      <td>False</td>\n",
              "      <td>False</td>\n",
              "      <td>False</td>\n",
              "      <td>False</td>\n",
              "    </tr>\n",
              "  </tbody>\n",
              "</table>\n",
              "</div>"
            ],
            "text/plain": [
              "    Date   Open   High    Low  Close  Volume  Market Cap\n",
              "0  False  False  False  False  False   False       False\n",
              "1  False  False  False  False  False   False       False\n",
              "2  False  False  False  False  False   False       False\n",
              "3  False  False  False  False  False   False       False\n",
              "4  False  False  False  False  False   False       False\n",
              "5  False  False  False  False  False   False       False\n",
              "6  False  False  False  False  False   False       False"
            ]
          },
          "metadata": {},
          "execution_count": 11
        }
      ]
    },
    {
      "cell_type": "code",
      "metadata": {
        "colab": {
          "base_uri": "https://localhost:8080/"
        },
        "id": "F38ZuWwib23_",
        "outputId": "e64ccf5d-3c22-4d9b-cd06-62b5fe82dd81"
      },
      "source": [
        "data.isnull().sum()"
      ],
      "execution_count": null,
      "outputs": [
        {
          "output_type": "execute_result",
          "data": {
            "text/plain": [
              "Date          0\n",
              "Open          0\n",
              "High          0\n",
              "Low           0\n",
              "Close         0\n",
              "Volume        0\n",
              "Market Cap    0\n",
              "dtype: int64"
            ]
          },
          "metadata": {},
          "execution_count": 12
        }
      ]
    },
    {
      "cell_type": "code",
      "metadata": {
        "colab": {
          "base_uri": "https://localhost:8080/",
          "height": 504
        },
        "id": "yKZBQf-Cb7M0",
        "outputId": "2675ba2a-e0eb-4fda-9894-5087e4bad5f5"
      },
      "source": [
        "plt.figure(figsize=(10,8))\n",
        "sns.heatmap(data.isnull())"
      ],
      "execution_count": null,
      "outputs": [
        {
          "output_type": "execute_result",
          "data": {
            "text/plain": [
              "<matplotlib.axes._subplots.AxesSubplot at 0x7f37858742d0>"
            ]
          },
          "metadata": {},
          "execution_count": 16
        },
        {
          "output_type": "display_data",
          "data": {
            "image/png": "[encoded data removed]",
            "text/plain": [
              "<Figure size 720x576 with 2 Axes>"
            ]
          },
          "metadata": {
            "needs_background": "light"
          }
        }
      ]
    },
    {
      "cell_type": "code",
      "metadata": {
        "colab": {
          "base_uri": "https://localhost:8080/",
          "height": 172
        },
        "id": "nCDAuzk4cHAh",
        "outputId": "235e74a7-950e-4ba8-e56e-d881f6c51493"
      },
      "source": [
        "data.corr()"
      ],
      "execution_count": null,
      "outputs": [
        {
          "output_type": "execute_result",
          "data": {
            "text/html": [
              "<div>\n",
              "<style scoped>\n",
              "    .dataframe tbody tr th:only-of-type {\n",
              "        vertical-align: middle;\n",
              "    }\n",
              "\n",
              "    .dataframe tbody tr th {\n",
              "        vertical-align: top;\n",
              "    }\n",
              "\n",
              "    .dataframe thead th {\n",
              "        text-align: right;\n",
              "    }\n",
              "</style>\n",
              "<table border=\"1\" class=\"dataframe\">\n",
              "  <thead>\n",
              "    <tr style=\"text-align: right;\">\n",
              "      <th></th>\n",
              "      <th>Open</th>\n",
              "      <th>High</th>\n",
              "      <th>Low</th>\n",
              "      <th>Close</th>\n",
              "    </tr>\n",
              "  </thead>\n",
              "  <tbody>\n",
              "    <tr>\n",
              "      <th>Open</th>\n",
              "      <td>1.000000</td>\n",
              "      <td>0.874419</td>\n",
              "      <td>0.966026</td>\n",
              "      <td>0.807730</td>\n",
              "    </tr>\n",
              "    <tr>\n",
              "      <th>High</th>\n",
              "      <td>0.874419</td>\n",
              "      <td>1.000000</td>\n",
              "      <td>0.913863</td>\n",
              "      <td>0.968694</td>\n",
              "    </tr>\n",
              "    <tr>\n",
              "      <th>Low</th>\n",
              "      <td>0.966026</td>\n",
              "      <td>0.913863</td>\n",
              "      <td>1.000000</td>\n",
              "      <td>0.905603</td>\n",
              "    </tr>\n",
              "    <tr>\n",
              "      <th>Close</th>\n",
              "      <td>0.807730</td>\n",
              "      <td>0.968694</td>\n",
              "      <td>0.905603</td>\n",
              "      <td>1.000000</td>\n",
              "    </tr>\n",
              "  </tbody>\n",
              "</table>\n",
              "</div>"
            ],
            "text/plain": [
              "           Open      High       Low     Close\n",
              "Open   1.000000  0.874419  0.966026  0.807730\n",
              "High   0.874419  1.000000  0.913863  0.968694\n",
              "Low    0.966026  0.913863  1.000000  0.905603\n",
              "Close  0.807730  0.968694  0.905603  1.000000"
            ]
          },
          "metadata": {},
          "execution_count": 18
        }
      ]
    },
    {
      "cell_type": "code",
      "metadata": {
        "colab": {
          "base_uri": "https://localhost:8080/"
        },
        "id": "ULgN5AzrcXr0",
        "outputId": "03bdaac8-fc1d-4cff-cfa3-e957a45f14e3"
      },
      "source": [
        "data.columns"
      ],
      "execution_count": null,
      "outputs": [
        {
          "output_type": "execute_result",
          "data": {
            "text/plain": [
              "Index(['Date', 'Open', 'High', 'Low', 'Close', 'Volume', 'Market Cap'], dtype='object')"
            ]
          },
          "metadata": {},
          "execution_count": 21
        }
      ]
    },
    {
      "cell_type": "code",
      "metadata": {
        "colab": {
          "base_uri": "https://localhost:8080/"
        },
        "id": "_n6CRDwscbth",
        "outputId": "f31d1f72-0710-4bb0-b707-388df3112656"
      },
      "source": [
        "data[\"High\"].mean()"
      ],
      "execution_count": null,
      "outputs": [
        {
          "output_type": "execute_result",
          "data": {
            "text/plain": [
              "3053.928571428571"
            ]
          },
          "metadata": {},
          "execution_count": 22
        }
      ]
    },
    {
      "cell_type": "code",
      "metadata": {
        "colab": {
          "base_uri": "https://localhost:8080/",
          "height": 349
        },
        "id": "Oa8uap2XcuHm",
        "outputId": "bc1b82c3-a0ed-46bb-e54e-613f8e8d4a07"
      },
      "source": [
        "sns.countplot(data[\"Open\"])"
      ],
      "execution_count": null,
      "outputs": [
        {
          "output_type": "stream",
          "name": "stderr",
          "text": [
            "/usr/local/lib/python3.7/dist-packages/seaborn/_decorators.py:43: FutureWarning: Pass the following variable as a keyword arg: x. From version 0.12, the only valid positional argument will be `data`, and passing other arguments without an explicit keyword will result in an error or misinterpretation.\n",
            "  FutureWarning\n"
          ]
        },
        {
          "output_type": "execute_result",
          "data": {
            "text/plain": [
              "<matplotlib.axes._subplots.AxesSubplot at 0x7f37856f8b90>"
            ]
          },
          "metadata": {},
          "execution_count": 23
        },
        {
          "output_type": "display_data",
          "data": {
            "image/png": "[encoded data removed]",
            "text/plain": [
              "<Figure size 432x288 with 1 Axes>"
            ]
          },
          "metadata": {
            "needs_background": "light"
          }
        }
      ]
    },
    {
      "cell_type": "code",
      "metadata": {
        "colab": {
          "base_uri": "https://localhost:8080/",
          "height": 349
        },
        "id": "EYg-Q4Sic895",
        "outputId": "ea5d04d7-318e-4f4b-f73d-76d8c6cb5294"
      },
      "source": [
        "sns.countplot(data[\"High\"])"
      ],
      "execution_count": null,
      "outputs": [
        {
          "output_type": "stream",
          "name": "stderr",
          "text": [
            "/usr/local/lib/python3.7/dist-packages/seaborn/_decorators.py:43: FutureWarning: Pass the following variable as a keyword arg: x. From version 0.12, the only valid positional argument will be `data`, and passing other arguments without an explicit keyword will result in an error or misinterpretation.\n",
            "  FutureWarning\n"
          ]
        },
        {
          "output_type": "execute_result",
          "data": {
            "text/plain": [
              "<matplotlib.axes._subplots.AxesSubplot at 0x7f3780dc4090>"
            ]
          },
          "metadata": {},
          "execution_count": 25
        },
        {
          "output_type": "display_data",
          "data": {
            "image/png": "[encoded data removed]",
            "text/plain": [
              "<Figure size 432x288 with 1 Axes>"
            ]
          },
          "metadata": {
            "needs_background": "light"
          }
        }
      ]
    },
    {
      "cell_type": "code",
      "metadata": {
        "colab": {
          "base_uri": "https://localhost:8080/",
          "height": 349
        },
        "id": "oz-LyWN3dCj7",
        "outputId": "89cf7ee7-c533-4440-9387-4beb8faf0ced"
      },
      "source": [
        "sns.countplot(data[\"Low\"])"
      ],
      "execution_count": null,
      "outputs": [
        {
          "output_type": "stream",
          "name": "stderr",
          "text": [
            "/usr/local/lib/python3.7/dist-packages/seaborn/_decorators.py:43: FutureWarning: Pass the following variable as a keyword arg: x. From version 0.12, the only valid positional argument will be `data`, and passing other arguments without an explicit keyword will result in an error or misinterpretation.\n",
            "  FutureWarning\n"
          ]
        },
        {
          "output_type": "execute_result",
          "data": {
            "text/plain": [
              "<matplotlib.axes._subplots.AxesSubplot at 0x7f3780db2a90>"
            ]
          },
          "metadata": {},
          "execution_count": 26
        },
        {
          "output_type": "display_data",
          "data": {
            "image/png": "[encoded data removed]",
            "text/plain": [
              "<Figure size 432x288 with 1 Axes>"
            ]
          },
          "metadata": {
            "needs_background": "light"
          }
        }
      ]
    },
    {
      "cell_type": "code",
      "metadata": {
        "colab": {
          "base_uri": "https://localhost:8080/",
          "height": 265
        },
        "id": "Ph6gVQmXdKGj",
        "outputId": "7463228f-0978-4e76-ef4b-165d2bfd747c"
      },
      "source": [
        "plt.hist(data[\"High\"])\n",
        "plt.show()"
      ],
      "execution_count": null,
      "outputs": [
        {
          "output_type": "display_data",
          "data": {
            "image/png": "[encoded data removed]",
            "text/plain": [
              "<Figure size 432x288 with 1 Axes>"
            ]
          },
          "metadata": {
            "needs_background": "light"
          }
        }
      ]
    },
    {
      "cell_type": "code",
      "metadata": {
        "colab": {
          "base_uri": "https://localhost:8080/",
          "height": 265
        },
        "id": "b_XitaF5dU1j",
        "outputId": "f7f1bb60-e647-4b11-cf81-a43f2b9cb9ce"
      },
      "source": [
        "plt.hist(data[\"Low\"])\n",
        "plt.show()"
      ],
      "execution_count": null,
      "outputs": [
        {
          "output_type": "display_data",
          "data": {
            "image/png": "[encoded data removed]",
            "text/plain": [
              "<Figure size 432x288 with 1 Axes>"
            ]
          },
          "metadata": {
            "needs_background": "light"
          }
        }
      ]
    },
    {
      "cell_type": "code",
      "metadata": {
        "colab": {
          "base_uri": "https://localhost:8080/",
          "height": 333
        },
        "id": "J9EVWBE2dXEF",
        "outputId": "c4b7600a-220b-4e56-df32-7f21a798d707"
      },
      "source": [
        "sns.boxplot(data[\"High\"])\n",
        "plt.show()"
      ],
      "execution_count": null,
      "outputs": [
        {
          "output_type": "stream",
          "name": "stderr",
          "text": [
            "/usr/local/lib/python3.7/dist-packages/seaborn/_decorators.py:43: FutureWarning: Pass the following variable as a keyword arg: x. From version 0.12, the only valid positional argument will be `data`, and passing other arguments without an explicit keyword will result in an error or misinterpretation.\n",
            "  FutureWarning\n"
          ]
        },
        {
          "output_type": "display_data",
          "data": {
            "image/png": "[encoded data removed]",
            "text/plain": [
              "<Figure size 432x288 with 1 Axes>"
            ]
          },
          "metadata": {
            "needs_background": "light"
          }
        }
      ]
    },
    {
      "cell_type": "code",
      "metadata": {
        "colab": {
          "base_uri": "https://localhost:8080/",
          "height": 333
        },
        "id": "OKF8f0z9di8K",
        "outputId": "d000d23d-302f-45ac-c4b2-ac55492b8005"
      },
      "source": [
        "sns.boxplot(data[\"Low\"])\n",
        "plt.show()"
      ],
      "execution_count": null,
      "outputs": [
        {
          "output_type": "stream",
          "name": "stderr",
          "text": [
            "/usr/local/lib/python3.7/dist-packages/seaborn/_decorators.py:43: FutureWarning: Pass the following variable as a keyword arg: x. From version 0.12, the only valid positional argument will be `data`, and passing other arguments without an explicit keyword will result in an error or misinterpretation.\n",
            "  FutureWarning\n"
          ]
        },
        {
          "output_type": "display_data",
          "data": {
            "image/png": "[encoded data removed]",
            "text/plain": [
              "<Figure size 432x288 with 1 Axes>"
            ]
          },
          "metadata": {
            "needs_background": "light"
          }
        }
      ]
    },
    {
      "cell_type": "code",
      "metadata": {
        "colab": {
          "base_uri": "https://localhost:8080/",
          "height": 297
        },
        "id": "2PovaAINdlRN",
        "outputId": "10d7df59-7b2b-44c9-acb8-2d41a2336da1"
      },
      "source": [
        "sns.boxplot(x=\"Open\",y=\"Low\",hue=\"High\",data=data)"
      ],
      "execution_count": null,
      "outputs": [
        {
          "output_type": "execute_result",
          "data": {
            "text/plain": [
              "<matplotlib.axes._subplots.AxesSubplot at 0x7f378deb5310>"
            ]
          },
          "metadata": {},
          "execution_count": 31
        },
        {
          "output_type": "display_data",
          "data": {
            "image/png": "[encoded data removed]",
            "text/plain": [
              "<Figure size 432x288 with 1 Axes>"
            ]
          },
          "metadata": {
            "needs_background": "light"
          }
        }
      ]
    },
    {
      "cell_type": "code",
      "metadata": {
        "id": "FWzI5vr9ej0l"
      },
      "source": [
        ""
      ],
      "execution_count": null,
      "outputs": []
    }
  ]
}